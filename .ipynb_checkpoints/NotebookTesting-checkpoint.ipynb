{
 "cells": [
  {
   "cell_type": "code",
   "execution_count": 1,
   "metadata": {},
   "outputs": [],
   "source": [
    "import testing\n",
    "from remi.datatypes import KeyValueStore\n",
    "from remi.supports import RedisInterface\n",
    "from remi import shippers\n",
    "import time, datetime\n",
    "import numpy as np\n",
    "from matplotlib import pyplot as plt\n",
    "\n",
    "def make_complex_dictionary():\n",
    "    time_string = str(datetime.datetime.now())\n",
    "    random_array = np.random.rand(3, 4)\n",
    "    test = {}\n",
    "    for i in range(20):\n",
    "        test[\"time_{}\".format(i)] = time_string\n",
    "        test[\"numpy_{}\".format(i)] = random_array\n",
    "    subdict = {}\n",
    "    test[\"subpath\"] = subdict\n",
    "    for k in range(10):\n",
    "        subdict[\"sub_{}\".format(k)] = {}\n",
    "        subdict = subdict[\"sub_{}\".format(k)]\n",
    "    subdict[\"nparr\"] = random_array\n",
    "    subdict[\"time\"] = time_string\n",
    "    return test\n",
    "\n",
    "def hundred_key_dictionary():\n",
    "    test = {}\n",
    "    random_array = np.random.rand(3, 4)\n",
    "    time_string = str(datetime.datetime.now())\n",
    "    for i in range(50):\n",
    "        test[\"time_{}\".format(i)] = time_string\n",
    "        test[\"numpy_{}\".format(i)] = random_array\n",
    "    return test\n",
    "\n",
    "def ten_level_dictionary():\n",
    "    test = {}\n",
    "    random_array = np.random.rand(3, 4)\n",
    "    time_string = str(datetime.datetime.now())\n",
    "    subdict = test\n",
    "    for k in range(10):\n",
    "        subdict[\"sub_{}\".format(k)] = {}\n",
    "        subdict = subdict[\"sub_{}\".format(k)]\n",
    "    subdict[\"nparr\"] = random_array\n",
    "    subdict[\"time\"] = time_string\n",
    "    return test\n",
    "    \n",
    "flat_data = {'points': 30, 'rebounds': 20}\n",
    "nested_data = {\n",
    "        'name': 'Jack',\n",
    "        'age': 26,\n",
    "        'stats': {\n",
    "            'points': 30,\n",
    "            'rebounds': 20\n",
    "        }\n",
    "    }\n",
    "\n",
    "big_nparray_dict = {\"nparr\": np.reshape(np.arange(640*480*3), (640, 480, 3))}\n",
    "hundred_key_dict = hundred_key_dictionary()\n",
    "ten_level_dictionary = ten_level_dictionary()\n",
    "\n",
    "\n",
    "\n",
    "interface = RedisInterface(host=\"localhost\", shippers=[shippers.NumpyHandler()])\n",
    "interface.initialize()\n",
    "server = KeyValueStore(interface)"
   ]
  },
  {
   "cell_type": "code",
   "execution_count": 2,
   "metadata": {},
   "outputs": [],
   "source": [
    "def set_flat():\n",
    "    server[\"flat_data\"] = flat_data\n",
    "\n",
    "def set_nested():\n",
    "    server[\"nested_data\"] = nested_data\n",
    "    \n",
    "def set_hundred_key():\n",
    "    server[\"hundred_data\"] = hundred_key_dict\n",
    "\n",
    "def set_bignpyarr():\n",
    "    server[\"big_numpy_arr\"] = big_nparray_dict"
   ]
  },
  {
   "cell_type": "code",
   "execution_count": 7,
   "metadata": {},
   "outputs": [],
   "source": [
    "# set_bignpyarr()\n",
    "set_hundred_key()\n",
    "server.set_metadata_write([\"big_numpy_arr\", \"hundred_data\"], True)\n",
    "# server.set_metadata_write([\"big_numpy_arr\", \"hundred_data\"], False)\n",
    "\n",
    "\n",
    "iterations = 100\n",
    "times = []\n",
    "current_time = time.time()\n",
    "\n",
    "for i in range(iterations):\n",
    "#     set_bignpyarr()\n",
    "    set_hundred_key()\n",
    "    times.append( (time.time() - current_time) * 1000)\n",
    "    current_time = time.time()"
   ]
  },
  {
   "cell_type": "code",
   "execution_count": 8,
   "metadata": {},
   "outputs": [
    {
     "data": {
      "text/plain": [
       "{'whiskers': [<matplotlib.lines.Line2D at 0x11da754a8>,\n",
       "  <matplotlib.lines.Line2D at 0x11da757f0>],\n",
       " 'caps': [<matplotlib.lines.Line2D at 0x11da75b38>,\n",
       "  <matplotlib.lines.Line2D at 0x11da75e80>],\n",
       " 'boxes': [<matplotlib.lines.Line2D at 0x11da75358>],\n",
       " 'medians': [<matplotlib.lines.Line2D at 0x11da80208>],\n",
       " 'fliers': [<matplotlib.lines.Line2D at 0x11da80550>],\n",
       " 'means': []}"
      ]
     },
     "execution_count": 8,
     "metadata": {},
     "output_type": "execute_result"
    },
    {
     "data": {
      "image/png": "[encoded data removed]",
      "text/plain": [
       "<Figure size 432x288 with 1 Axes>"
      ]
     },
     "metadata": {
      "needs_background": "light"
     },
     "output_type": "display_data"
    }
   ],
   "source": [
    "plt.boxplot(times)"
   ]
  },
  {
   "cell_type": "code",
   "execution_count": null,
   "metadata": {},
   "outputs": [],
   "source": []
  },
  {
   "cell_type": "code",
   "execution_count": null,
   "metadata": {},
   "outputs": [],
   "source": []
  }
 ],
 "metadata": {
  "kernelspec": {
   "display_name": "Python 3",
   "language": "python",
   "name": "python3"
  },
  "language_info": {
   "codemirror_mode": {
    "name": "ipython",
    "version": 3
   },
   "file_extension": ".py",
   "mimetype": "text/x-python",
   "name": "python",
   "nbconvert_exporter": "python",
   "pygments_lexer": "ipython3",
   "version": "3.6.5"
  }
 },
 "nbformat": 4,
 "nbformat_minor": 2
}
